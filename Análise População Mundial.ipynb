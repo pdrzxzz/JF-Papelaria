{
  "nbformat": 4,
  "nbformat_minor": 0,
  "metadata": {
    "colab": {
      "provenance": [],
      "authorship_tag": "ABX9TyO/gf/N48oa+yT+H9MNGjTp",
      "include_colab_link": true
    },
    "kernelspec": {
      "name": "ir",
      "display_name": "R"
    },
    "language_info": {
      "name": "R"
    }
  },
  "cells": [
    {
      "cell_type": "markdown",
      "metadata": {
        "id": "view-in-github",
        "colab_type": "text"
      },
      "source": [
        "<a href=\"https://colab.research.google.com/github/pdrzxzz/JF-Papelaria/blob/main/An%C3%A1lise%20Popula%C3%A7%C3%A3o%20Mundial.ipynb\" target=\"_parent\"><img src=\"https://colab.research.google.com/assets/colab-badge.svg\" alt=\"Open In Colab\"/></a>"
      ]
    },
    {
      "cell_type": "code",
      "execution_count": null,
      "metadata": {
        "id": "q-4sidgLwNJk"
      },
      "outputs": [],
      "source": [
        "#https://www.kaggle.com/datasets/dataanalyst001/world-population-growth-rate-by-cities-2024\n",
        "#https://drive.google.com/file/d/1nb2DICjXL8mxBDKb4RuAvooIrMXYUfhp/view?usp=drive_link"
      ]
    },
    {
      "cell_type": "code",
      "source": [
        "if(!require(\"dplyr\")) install.packages('dplyr') ; if(!require(\"ggplot2\")) install.packages('ggplot2'); if(!require(\"plotly\")) install.packages('plotly'); if(!require(\"nortest\")) install.packages('nortest')"
      ],
      "metadata": {
        "id": "KHd00ysa1t2m"
      },
      "execution_count": null,
      "outputs": []
    },
    {
      "cell_type": "code",
      "source": [
        "library(dplyr); library(ggplot2); library(plotly); library(nortest)"
      ],
      "metadata": {
        "id": "UMMkQ6gB19s1"
      },
      "execution_count": null,
      "outputs": []
    },
    {
      "cell_type": "markdown",
      "source": [
        "---"
      ],
      "metadata": {
        "id": "ds7lArta_si1"
      }
    },
    {
      "cell_type": "code",
      "source": [
        "data = read.csv('World-pop.csv')\n",
        "head(data)"
      ],
      "metadata": {
        "colab": {
          "base_uri": "https://localhost:8080/",
          "height": 286
        },
        "id": "u3wBSrjrwfiz",
        "outputId": "cc7b8915-2b41-40ca-ccd4-05ece86fca67"
      },
      "execution_count": null,
      "outputs": [
        {
          "output_type": "display_data",
          "data": {
            "text/html": [
              "<table class=\"dataframe\">\n",
              "<caption>A data.frame: 6 × 6</caption>\n",
              "<thead>\n",
              "\t<tr><th></th><th scope=col>City</th><th scope=col>Country</th><th scope=col>Continent</th><th scope=col>Population..2024.</th><th scope=col>Population..2023.</th><th scope=col>Growth.Rate</th></tr>\n",
              "\t<tr><th></th><th scope=col>&lt;chr&gt;</th><th scope=col>&lt;chr&gt;</th><th scope=col>&lt;chr&gt;</th><th scope=col>&lt;int&gt;</th><th scope=col>&lt;int&gt;</th><th scope=col>&lt;dbl&gt;</th></tr>\n",
              "</thead>\n",
              "<tbody>\n",
              "\t<tr><th scope=row>1</th><td>Tokyo    </td><td>Japan     </td><td>Asia         </td><td>37115035</td><td>37194105</td><td>-0.0021</td></tr>\n",
              "\t<tr><th scope=row>2</th><td>Delhi    </td><td>India     </td><td>Asia         </td><td>33807403</td><td>32941309</td><td> 0.0263</td></tr>\n",
              "\t<tr><th scope=row>3</th><td>Shanghai </td><td>China     </td><td>Asia         </td><td>29867918</td><td>29210808</td><td> 0.0225</td></tr>\n",
              "\t<tr><th scope=row>4</th><td>Dhaka    </td><td>Bangladesh</td><td>Asia         </td><td>23935652</td><td>23209616</td><td> 0.0313</td></tr>\n",
              "\t<tr><th scope=row>5</th><td>Sao Paulo</td><td>Brazil    </td><td>South America</td><td>22806704</td><td>22619736</td><td> 0.0083</td></tr>\n",
              "\t<tr><th scope=row>6</th><td>Cairo    </td><td>Egypt     </td><td>Africa       </td><td>22623874</td><td>22183201</td><td> 0.0199</td></tr>\n",
              "</tbody>\n",
              "</table>\n"
            ],
            "text/markdown": "\nA data.frame: 6 × 6\n\n| <!--/--> | City &lt;chr&gt; | Country &lt;chr&gt; | Continent &lt;chr&gt; | Population..2024. &lt;int&gt; | Population..2023. &lt;int&gt; | Growth.Rate &lt;dbl&gt; |\n|---|---|---|---|---|---|---|\n| 1 | Tokyo     | Japan      | Asia          | 37115035 | 37194105 | -0.0021 |\n| 2 | Delhi     | India      | Asia          | 33807403 | 32941309 |  0.0263 |\n| 3 | Shanghai  | China      | Asia          | 29867918 | 29210808 |  0.0225 |\n| 4 | Dhaka     | Bangladesh | Asia          | 23935652 | 23209616 |  0.0313 |\n| 5 | Sao Paulo | Brazil     | South America | 22806704 | 22619736 |  0.0083 |\n| 6 | Cairo     | Egypt      | Africa        | 22623874 | 22183201 |  0.0199 |\n\n",
            "text/latex": "A data.frame: 6 × 6\n\\begin{tabular}{r|llllll}\n  & City & Country & Continent & Population..2024. & Population..2023. & Growth.Rate\\\\\n  & <chr> & <chr> & <chr> & <int> & <int> & <dbl>\\\\\n\\hline\n\t1 & Tokyo     & Japan      & Asia          & 37115035 & 37194105 & -0.0021\\\\\n\t2 & Delhi     & India      & Asia          & 33807403 & 32941309 &  0.0263\\\\\n\t3 & Shanghai  & China      & Asia          & 29867918 & 29210808 &  0.0225\\\\\n\t4 & Dhaka     & Bangladesh & Asia          & 23935652 & 23209616 &  0.0313\\\\\n\t5 & Sao Paulo & Brazil     & South America & 22806704 & 22619736 &  0.0083\\\\\n\t6 & Cairo     & Egypt      & Africa        & 22623874 & 22183201 &  0.0199\\\\\n\\end{tabular}\n",
            "text/plain": [
              "  City      Country    Continent     Population..2024. Population..2023.\n",
              "1 Tokyo     Japan      Asia          37115035          37194105         \n",
              "2 Delhi     India      Asia          33807403          32941309         \n",
              "3 Shanghai  China      Asia          29867918          29210808         \n",
              "4 Dhaka     Bangladesh Asia          23935652          23209616         \n",
              "5 Sao Paulo Brazil     South America 22806704          22619736         \n",
              "6 Cairo     Egypt      Africa        22623874          22183201         \n",
              "  Growth.Rate\n",
              "1 -0.0021    \n",
              "2  0.0263    \n",
              "3  0.0225    \n",
              "4  0.0313    \n",
              "5  0.0083    \n",
              "6  0.0199    "
            ]
          },
          "metadata": {}
        }
      ]
    },
    {
      "cell_type": "code",
      "source": [
        "#Transformando a taxa de crescimento para porcentagem\n",
        "data$Growth.Rate = data$Growth.Rate * 100"
      ],
      "metadata": {
        "id": "ghJAxECL2yyt"
      },
      "execution_count": null,
      "outputs": []
    },
    {
      "cell_type": "code",
      "source": [
        "head(data)"
      ],
      "metadata": {
        "colab": {
          "base_uri": "https://localhost:8080/",
          "height": 286
        },
        "id": "kvr2YXdh3CN1",
        "outputId": "40356098-c945-4c86-9a1c-fc4744b763c1"
      },
      "execution_count": null,
      "outputs": [
        {
          "output_type": "display_data",
          "data": {
            "text/html": [
              "<table class=\"dataframe\">\n",
              "<caption>A data.frame: 6 × 6</caption>\n",
              "<thead>\n",
              "\t<tr><th></th><th scope=col>City</th><th scope=col>Country</th><th scope=col>Continent</th><th scope=col>Population..2024.</th><th scope=col>Population..2023.</th><th scope=col>Growth.Rate</th></tr>\n",
              "\t<tr><th></th><th scope=col>&lt;chr&gt;</th><th scope=col>&lt;chr&gt;</th><th scope=col>&lt;chr&gt;</th><th scope=col>&lt;int&gt;</th><th scope=col>&lt;int&gt;</th><th scope=col>&lt;dbl&gt;</th></tr>\n",
              "</thead>\n",
              "<tbody>\n",
              "\t<tr><th scope=row>1</th><td>Tokyo    </td><td>Japan     </td><td>Asia         </td><td>37115035</td><td>37194105</td><td>-0.21</td></tr>\n",
              "\t<tr><th scope=row>2</th><td>Delhi    </td><td>India     </td><td>Asia         </td><td>33807403</td><td>32941309</td><td> 2.63</td></tr>\n",
              "\t<tr><th scope=row>3</th><td>Shanghai </td><td>China     </td><td>Asia         </td><td>29867918</td><td>29210808</td><td> 2.25</td></tr>\n",
              "\t<tr><th scope=row>4</th><td>Dhaka    </td><td>Bangladesh</td><td>Asia         </td><td>23935652</td><td>23209616</td><td> 3.13</td></tr>\n",
              "\t<tr><th scope=row>5</th><td>Sao Paulo</td><td>Brazil    </td><td>South America</td><td>22806704</td><td>22619736</td><td> 0.83</td></tr>\n",
              "\t<tr><th scope=row>6</th><td>Cairo    </td><td>Egypt     </td><td>Africa       </td><td>22623874</td><td>22183201</td><td> 1.99</td></tr>\n",
              "</tbody>\n",
              "</table>\n"
            ],
            "text/markdown": "\nA data.frame: 6 × 6\n\n| <!--/--> | City &lt;chr&gt; | Country &lt;chr&gt; | Continent &lt;chr&gt; | Population..2024. &lt;int&gt; | Population..2023. &lt;int&gt; | Growth.Rate &lt;dbl&gt; |\n|---|---|---|---|---|---|---|\n| 1 | Tokyo     | Japan      | Asia          | 37115035 | 37194105 | -0.21 |\n| 2 | Delhi     | India      | Asia          | 33807403 | 32941309 |  2.63 |\n| 3 | Shanghai  | China      | Asia          | 29867918 | 29210808 |  2.25 |\n| 4 | Dhaka     | Bangladesh | Asia          | 23935652 | 23209616 |  3.13 |\n| 5 | Sao Paulo | Brazil     | South America | 22806704 | 22619736 |  0.83 |\n| 6 | Cairo     | Egypt      | Africa        | 22623874 | 22183201 |  1.99 |\n\n",
            "text/latex": "A data.frame: 6 × 6\n\\begin{tabular}{r|llllll}\n  & City & Country & Continent & Population..2024. & Population..2023. & Growth.Rate\\\\\n  & <chr> & <chr> & <chr> & <int> & <int> & <dbl>\\\\\n\\hline\n\t1 & Tokyo     & Japan      & Asia          & 37115035 & 37194105 & -0.21\\\\\n\t2 & Delhi     & India      & Asia          & 33807403 & 32941309 &  2.63\\\\\n\t3 & Shanghai  & China      & Asia          & 29867918 & 29210808 &  2.25\\\\\n\t4 & Dhaka     & Bangladesh & Asia          & 23935652 & 23209616 &  3.13\\\\\n\t5 & Sao Paulo & Brazil     & South America & 22806704 & 22619736 &  0.83\\\\\n\t6 & Cairo     & Egypt      & Africa        & 22623874 & 22183201 &  1.99\\\\\n\\end{tabular}\n",
            "text/plain": [
              "  City      Country    Continent     Population..2024. Population..2023.\n",
              "1 Tokyo     Japan      Asia          37115035          37194105         \n",
              "2 Delhi     India      Asia          33807403          32941309         \n",
              "3 Shanghai  China      Asia          29867918          29210808         \n",
              "4 Dhaka     Bangladesh Asia          23935652          23209616         \n",
              "5 Sao Paulo Brazil     South America 22806704          22619736         \n",
              "6 Cairo     Egypt      Africa        22623874          22183201         \n",
              "  Growth.Rate\n",
              "1 -0.21      \n",
              "2  2.63      \n",
              "3  2.25      \n",
              "4  3.13      \n",
              "5  0.83      \n",
              "6  1.99      "
            ]
          },
          "metadata": {}
        }
      ]
    },
    {
      "cell_type": "code",
      "source": [
        "table(data$Continent)"
      ],
      "metadata": {
        "colab": {
          "base_uri": "https://localhost:8080/",
          "height": 104
        },
        "id": "zAePTHZzVBI9",
        "outputId": "0b9117b0-c05c-4dad-89e3-65ec21f2bfc4"
      },
      "execution_count": null,
      "outputs": [
        {
          "output_type": "display_data",
          "data": {
            "text/plain": [
              "\n",
              "                     Africa          Asia        Europe North America \n",
              "           11           106           500            53            63 \n",
              "       Oceana       Oceania South America \n",
              "            2             4            62 "
            ]
          },
          "metadata": {}
        }
      ]
    },
    {
      "cell_type": "code",
      "source": [
        "#Corrigindo erro de ortografia, oceana -> oceania.\n",
        "data$Continent <- ifelse(data$Continent == \"Oceana\", \"Oceania\", data$Continent)"
      ],
      "metadata": {
        "id": "uvAtVyDTVJin"
      },
      "execution_count": null,
      "outputs": []
    },
    {
      "cell_type": "code",
      "source": [
        "table(data$Continent)"
      ],
      "metadata": {
        "colab": {
          "base_uri": "https://localhost:8080/",
          "height": 104
        },
        "id": "2P7BY9MXZdAg",
        "outputId": "7a3b1be6-e664-4df7-d85d-a83024a322b4"
      },
      "execution_count": null,
      "outputs": [
        {
          "output_type": "display_data",
          "data": {
            "text/plain": [
              "\n",
              "                     Africa          Asia        Europe North America \n",
              "           11           106           500            53            63 \n",
              "      Oceania South America \n",
              "            6            62 "
            ]
          },
          "metadata": {}
        }
      ]
    },
    {
      "cell_type": "code",
      "source": [
        "#Removendo valores missing\n",
        "data <- data %>% filter(Continent != \"\")\n",
        "table(data$Continent)"
      ],
      "metadata": {
        "colab": {
          "base_uri": "https://localhost:8080/",
          "height": 104
        },
        "id": "rwa1wSctZpLJ",
        "outputId": "b8e90128-0378-4783-9fb1-6bb99e9e3cc2"
      },
      "execution_count": null,
      "outputs": [
        {
          "output_type": "display_data",
          "data": {
            "text/plain": [
              "\n",
              "       Africa          Asia        Europe North America       Oceania \n",
              "          106           500            53            63             6 \n",
              "South America \n",
              "           62 "
            ]
          },
          "metadata": {}
        }
      ]
    },
    {
      "cell_type": "markdown",
      "source": [
        "---"
      ],
      "metadata": {
        "id": "NNhJnK9ZaMKR"
      }
    },
    {
      "cell_type": "code",
      "source": [
        "summary(data)"
      ],
      "metadata": {
        "id": "eWboUlTbxTvn",
        "colab": {
          "base_uri": "https://localhost:8080/",
          "height": 260
        },
        "outputId": "d125b82d-c53f-4941-a591-ea1fc6540be6"
      },
      "execution_count": null,
      "outputs": [
        {
          "output_type": "display_data",
          "data": {
            "text/plain": [
              "     City             Country           Continent         Population..2024. \n",
              " Length:790         Length:790         Length:790         Min.   :  750036  \n",
              " Class :character   Class :character   Class :character   1st Qu.:  992648  \n",
              " Mode  :character   Mode  :character   Mode  :character   Median : 1379998  \n",
              "                                                          Mean   : 2665356  \n",
              "                                                          3rd Qu.: 2550904  \n",
              "                                                          Max.   :37115035  \n",
              " Population..2023.   Growth.Rate    \n",
              " Min.   :  722836   Min.   :-2.490  \n",
              " 1st Qu.:  970916   1st Qu.: 1.242  \n",
              " Median : 1364431   Median : 1.975  \n",
              " Mean   : 2615341   Mean   : 2.008  \n",
              " 3rd Qu.: 2501436   3rd Qu.: 2.650  \n",
              " Max.   :37194105   Max.   : 5.820  "
            ]
          },
          "metadata": {}
        }
      ]
    },
    {
      "cell_type": "code",
      "source": [
        "#DESCREVENDO AS VARIÁVEIS\n",
        "\n",
        "#City -> Qualitativa Nominal\n",
        "\n",
        "#Country -> Qualitativa Nominal\n",
        "\n",
        "#Continent -> Qualitativa Nominal\n",
        "\n",
        "#Population 2023/2024 -> Quantitativa Discreta\n",
        "\n",
        "#Growth Rate -> Quantitativa Contínua"
      ],
      "metadata": {
        "id": "oOZuxdAR4JQz"
      },
      "execution_count": null,
      "outputs": []
    },
    {
      "cell_type": "markdown",
      "source": [
        "---"
      ],
      "metadata": {
        "id": "2R_1xyTb_uve"
      }
    },
    {
      "cell_type": "code",
      "source": [
        "#CALCULANDO MEDIDAS"
      ],
      "metadata": {
        "id": "e8QhShukn79U"
      },
      "execution_count": null,
      "outputs": []
    },
    {
      "cell_type": "code",
      "source": [
        "#Calculando médias\n",
        "mean(data$Population..2023.)\n",
        "mean(data$Population..2024.)\n",
        "mean(data$Growth.Rate)"
      ],
      "metadata": {
        "id": "55n42Ho7xTsv",
        "colab": {
          "base_uri": "https://localhost:8080/",
          "height": 69
        },
        "outputId": "aef61f60-2e61-4272-f4e7-ed6bd6dcfe2d"
      },
      "execution_count": null,
      "outputs": [
        {
          "output_type": "display_data",
          "data": {
            "text/html": [
              "2615340.53670886"
            ],
            "text/markdown": "2615340.53670886",
            "text/latex": "2615340.53670886",
            "text/plain": [
              "[1] 2615341"
            ]
          },
          "metadata": {}
        },
        {
          "output_type": "display_data",
          "data": {
            "text/html": [
              "2665355.84050633"
            ],
            "text/markdown": "2665355.84050633",
            "text/latex": "2665355.84050633",
            "text/plain": [
              "[1] 2665356"
            ]
          },
          "metadata": {}
        },
        {
          "output_type": "display_data",
          "data": {
            "text/html": [
              "2.00781012658228"
            ],
            "text/markdown": "2.00781012658228",
            "text/latex": "2.00781012658228",
            "text/plain": [
              "[1] 2.00781"
            ]
          },
          "metadata": {}
        }
      ]
    },
    {
      "cell_type": "code",
      "source": [
        "#A ordem de crescimento populacional de 2023 para 2024 foi, em média, aproximadamente 2%"
      ],
      "metadata": {
        "id": "VVIWAyrYxTn3"
      },
      "execution_count": null,
      "outputs": []
    },
    {
      "cell_type": "code",
      "source": [
        "#Calculando medianas\n",
        "median(data$Population..2023.)\n",
        "median(data$Population..2024.)\n",
        "median(data$Growth.Rate)"
      ],
      "metadata": {
        "colab": {
          "base_uri": "https://localhost:8080/",
          "height": 69
        },
        "id": "M2JsPPGf3r_B",
        "outputId": "2c9804fd-0f52-4694-fc62-655177ebe5c5"
      },
      "execution_count": null,
      "outputs": [
        {
          "output_type": "display_data",
          "data": {
            "text/html": [
              "1364431"
            ],
            "text/markdown": "1364431",
            "text/latex": "1364431",
            "text/plain": [
              "[1] 1364431"
            ]
          },
          "metadata": {}
        },
        {
          "output_type": "display_data",
          "data": {
            "text/html": [
              "1379997.5"
            ],
            "text/markdown": "1379997.5",
            "text/latex": "1379997.5",
            "text/plain": [
              "[1] 1379998"
            ]
          },
          "metadata": {}
        },
        {
          "output_type": "display_data",
          "data": {
            "text/html": [
              "1.975"
            ],
            "text/markdown": "1.975",
            "text/latex": "1.975",
            "text/plain": [
              "[1] 1.975"
            ]
          },
          "metadata": {}
        }
      ]
    },
    {
      "cell_type": "code",
      "source": [
        "#Calculando desvio padrão\n",
        "sd(data$Population..2023.)\n",
        "sd(data$Population..2024.)\n",
        "sd(data$Growth.Rate)"
      ],
      "metadata": {
        "colab": {
          "base_uri": "https://localhost:8080/",
          "height": 69
        },
        "id": "5it0xpIR3ynx",
        "outputId": "94c1015e-1977-4b4f-e239-37dd99303a0b"
      },
      "execution_count": null,
      "outputs": [
        {
          "output_type": "display_data",
          "data": {
            "text/html": [
              "3683667.68575857"
            ],
            "text/markdown": "3683667.68575857",
            "text/latex": "3683667.68575857",
            "text/plain": [
              "[1] 3683668"
            ]
          },
          "metadata": {}
        },
        {
          "output_type": "display_data",
          "data": {
            "text/html": [
              "3746048.03016692"
            ],
            "text/markdown": "3746048.03016692",
            "text/latex": "3746048.03016692",
            "text/plain": [
              "[1] 3746048"
            ]
          },
          "metadata": {}
        },
        {
          "output_type": "display_data",
          "data": {
            "text/html": [
              "1.21447183569424"
            ],
            "text/markdown": "1.21447183569424",
            "text/latex": "1.21447183569424",
            "text/plain": [
              "[1] 1.214472"
            ]
          },
          "metadata": {}
        }
      ]
    },
    {
      "cell_type": "code",
      "source": [
        "#Calculando variância\n",
        "var(data$Population..2023.)\n",
        "var(data$Population..2024.)\n",
        "var(data$Growth.Rate)"
      ],
      "metadata": {
        "colab": {
          "base_uri": "https://localhost:8080/",
          "height": 69
        },
        "id": "_kF_uX9Q4D47",
        "outputId": "595a7ad3-ee03-4cf6-ba8d-6758459ef135"
      },
      "execution_count": null,
      "outputs": [
        {
          "output_type": "display_data",
          "data": {
            "text/html": [
              "13569407619101.9"
            ],
            "text/markdown": "13569407619101.9",
            "text/latex": "13569407619101.9",
            "text/plain": [
              "[1] 1.356941e+13"
            ]
          },
          "metadata": {}
        },
        {
          "output_type": "display_data",
          "data": {
            "text/html": [
              "14032875844317.5"
            ],
            "text/markdown": "14032875844317.5",
            "text/latex": "14032875844317.5",
            "text/plain": [
              "[1] 1.403288e+13"
            ]
          },
          "metadata": {}
        },
        {
          "output_type": "display_data",
          "data": {
            "text/html": [
              "1.47494183969453"
            ],
            "text/markdown": "1.47494183969453",
            "text/latex": "1.47494183969453",
            "text/plain": [
              "[1] 1.474942"
            ]
          },
          "metadata": {}
        }
      ]
    },
    {
      "cell_type": "markdown",
      "source": [
        "---"
      ],
      "metadata": {
        "id": "x8lqa8dx7vK6"
      }
    },
    {
      "cell_type": "code",
      "source": [
        "boxplot(data$Growth.Rate)"
      ],
      "metadata": {
        "id": "ejVe2Y8WxTeX",
        "colab": {
          "base_uri": "https://localhost:8080/",
          "height": 437
        },
        "outputId": "d13fad1e-17a3-4c41-ddf7-7fec61bfe47f"
      },
      "execution_count": null,
      "outputs": [
        {
          "output_type": "display_data",
          "data": {
            "text/plain": [
              "plot without title"
            ],
            "image/png": "[encoded data removed]"
          },
          "metadata": {
            "image/png": {
              "width": 420,
              "height": 420
            }
          }
        }
      ]
    },
    {
      "cell_type": "code",
      "source": [
        "#É possível observar a presença de alguns outliers, vamos analisar onde estão localizadas essas cidades fora da curva.\n",
        "outliers = boxplot.stats(data$Growth.Rate)$out\n",
        "outliers"
      ],
      "metadata": {
        "colab": {
          "base_uri": "https://localhost:8080/",
          "height": 34
        },
        "id": "XMkMPJ0b4U60",
        "outputId": "0865872f-8ca2-415e-8080-04ac4df22739"
      },
      "execution_count": null,
      "outputs": [
        {
          "output_type": "display_data",
          "data": {
            "text/html": [
              "<style>\n",
              ".list-inline {list-style: none; margin:0; padding: 0}\n",
              ".list-inline>li {display: inline-block}\n",
              ".list-inline>li:not(:last-child)::after {content: \"\\00b7\"; padding: 0 .5ex}\n",
              "</style>\n",
              "<ol class=list-inline><li>4.96</li><li>-2.49</li><li>5.32</li><li>4.85</li><li>-0.97</li><li>-1.43</li><li>5.2</li><li>-1.07</li><li>4.83</li><li>5.13</li><li>4.95</li><li>4.78</li><li>4.99</li><li>5.82</li><li>4.83</li><li>5</li><li>5.02</li><li>4.79</li><li>-2.03</li><li>5.58</li><li>5.45</li><li>5.01</li><li>5.01</li><li>5.06</li><li>4.84</li></ol>\n"
            ],
            "text/markdown": "1. 4.96\n2. -2.49\n3. 5.32\n4. 4.85\n5. -0.97\n6. -1.43\n7. 5.2\n8. -1.07\n9. 4.83\n10. 5.13\n11. 4.95\n12. 4.78\n13. 4.99\n14. 5.82\n15. 4.83\n16. 5\n17. 5.02\n18. 4.79\n19. -2.03\n20. 5.58\n21. 5.45\n22. 5.01\n23. 5.01\n24. 5.06\n25. 4.84\n\n\n",
            "text/latex": "\\begin{enumerate*}\n\\item 4.96\n\\item -2.49\n\\item 5.32\n\\item 4.85\n\\item -0.97\n\\item -1.43\n\\item 5.2\n\\item -1.07\n\\item 4.83\n\\item 5.13\n\\item 4.95\n\\item 4.78\n\\item 4.99\n\\item 5.82\n\\item 4.83\n\\item 5\n\\item 5.02\n\\item 4.79\n\\item -2.03\n\\item 5.58\n\\item 5.45\n\\item 5.01\n\\item 5.01\n\\item 5.06\n\\item 4.84\n\\end{enumerate*}\n",
            "text/plain": [
              " [1]  4.96 -2.49  5.32  4.85 -0.97 -1.43  5.20 -1.07  4.83  5.13  4.95  4.78\n",
              "[13]  4.99  5.82  4.83  5.00  5.02  4.79 -2.03  5.58  5.45  5.01  5.01  5.06\n",
              "[25]  4.84"
            ]
          },
          "metadata": {}
        }
      ]
    },
    {
      "cell_type": "code",
      "source": [
        "#Filtrando os outliers\n",
        "non_negative_outliers = c()\n",
        "negative_outliers = c()\n",
        "for(num in outliers){\n",
        "  if(num >= 0){\n",
        "    non_negative_outliers <- c(non_negative_outliers, num)\n",
        "  }\n",
        "  else{\n",
        "    negative_outliers <- c(negative_outliers, num)\n",
        "  }\n",
        "}\n",
        "non_negative_outliers\n",
        "negative_outliers"
      ],
      "metadata": {
        "colab": {
          "base_uri": "https://localhost:8080/",
          "height": 52
        },
        "id": "UUePtMTe6G2r",
        "outputId": "331c18c1-78fb-427a-8d33-366dd55d8220"
      },
      "execution_count": null,
      "outputs": [
        {
          "output_type": "display_data",
          "data": {
            "text/html": [
              "<style>\n",
              ".list-inline {list-style: none; margin:0; padding: 0}\n",
              ".list-inline>li {display: inline-block}\n",
              ".list-inline>li:not(:last-child)::after {content: \"\\00b7\"; padding: 0 .5ex}\n",
              "</style>\n",
              "<ol class=list-inline><li>4.96</li><li>5.32</li><li>4.85</li><li>5.2</li><li>4.83</li><li>5.13</li><li>4.95</li><li>4.78</li><li>4.99</li><li>5.82</li><li>4.83</li><li>5</li><li>5.02</li><li>4.79</li><li>5.58</li><li>5.45</li><li>5.01</li><li>5.01</li><li>5.06</li><li>4.84</li></ol>\n"
            ],
            "text/markdown": "1. 4.96\n2. 5.32\n3. 4.85\n4. 5.2\n5. 4.83\n6. 5.13\n7. 4.95\n8. 4.78\n9. 4.99\n10. 5.82\n11. 4.83\n12. 5\n13. 5.02\n14. 4.79\n15. 5.58\n16. 5.45\n17. 5.01\n18. 5.01\n19. 5.06\n20. 4.84\n\n\n",
            "text/latex": "\\begin{enumerate*}\n\\item 4.96\n\\item 5.32\n\\item 4.85\n\\item 5.2\n\\item 4.83\n\\item 5.13\n\\item 4.95\n\\item 4.78\n\\item 4.99\n\\item 5.82\n\\item 4.83\n\\item 5\n\\item 5.02\n\\item 4.79\n\\item 5.58\n\\item 5.45\n\\item 5.01\n\\item 5.01\n\\item 5.06\n\\item 4.84\n\\end{enumerate*}\n",
            "text/plain": [
              " [1] 4.96 5.32 4.85 5.20 4.83 5.13 4.95 4.78 4.99 5.82 4.83 5.00 5.02 4.79 5.58\n",
              "[16] 5.45 5.01 5.01 5.06 4.84"
            ]
          },
          "metadata": {}
        },
        {
          "output_type": "display_data",
          "data": {
            "text/html": [
              "<style>\n",
              ".list-inline {list-style: none; margin:0; padding: 0}\n",
              ".list-inline>li {display: inline-block}\n",
              ".list-inline>li:not(:last-child)::after {content: \"\\00b7\"; padding: 0 .5ex}\n",
              "</style>\n",
              "<ol class=list-inline><li>-2.49</li><li>-0.97</li><li>-1.43</li><li>-1.07</li><li>-2.03</li></ol>\n"
            ],
            "text/markdown": "1. -2.49\n2. -0.97\n3. -1.43\n4. -1.07\n5. -2.03\n\n\n",
            "text/latex": "\\begin{enumerate*}\n\\item -2.49\n\\item -0.97\n\\item -1.43\n\\item -1.07\n\\item -2.03\n\\end{enumerate*}\n",
            "text/plain": [
              "[1] -2.49 -0.97 -1.43 -1.07 -2.03"
            ]
          },
          "metadata": {}
        }
      ]
    },
    {
      "cell_type": "code",
      "source": [
        "#Cidades com outliers negativos\n",
        "outliers_rows = which(data$Growth.Rate %in% negative_outliers)\n",
        "data[outliers_rows, ]"
      ],
      "metadata": {
        "colab": {
          "base_uri": "https://localhost:8080/",
          "height": 255
        },
        "id": "oobwkCyK5KVZ",
        "outputId": "4760f6af-560f-4503-a9c1-7e05f4a0716c"
      },
      "execution_count": null,
      "outputs": [
        {
          "output_type": "display_data",
          "data": {
            "text/html": [
              "<table class=\"dataframe\">\n",
              "<caption>A data.frame: 5 × 6</caption>\n",
              "<thead>\n",
              "\t<tr><th></th><th scope=col>City</th><th scope=col>Country</th><th scope=col>Continent</th><th scope=col>Population..2024.</th><th scope=col>Population..2023.</th><th scope=col>Growth.Rate</th></tr>\n",
              "\t<tr><th></th><th scope=col>&lt;chr&gt;</th><th scope=col>&lt;chr&gt;</th><th scope=col>&lt;chr&gt;</th><th scope=col>&lt;int&gt;</th><th scope=col>&lt;int&gt;</th><th scope=col>&lt;dbl&gt;</th></tr>\n",
              "</thead>\n",
              "<tbody>\n",
              "\t<tr><th scope=row>49</th><td>New York    </td><td>United States</td><td>North America</td><td>7931147</td><td>8133522</td><td>-2.49</td></tr>\n",
              "\t<tr><th scope=row>130</th><td>Los Angeles </td><td>United States</td><td>North America</td><td>3748640</td><td>3785439</td><td>-0.97</td></tr>\n",
              "\t<tr><th scope=row>196</th><td>Chicago     </td><td>United States</td><td>North America</td><td>2590002</td><td>2627520</td><td>-1.43</td></tr>\n",
              "\t<tr><th scope=row>351</th><td>Philadelphia</td><td>United States</td><td>North America</td><td>1533916</td><td>1550587</td><td>-1.07</td></tr>\n",
              "\t<tr><th scope=row>637</th><td>San Jose    </td><td>United States</td><td>North America</td><td> 932636</td><td> 951934</td><td>-2.03</td></tr>\n",
              "</tbody>\n",
              "</table>\n"
            ],
            "text/markdown": "\nA data.frame: 5 × 6\n\n| <!--/--> | City &lt;chr&gt; | Country &lt;chr&gt; | Continent &lt;chr&gt; | Population..2024. &lt;int&gt; | Population..2023. &lt;int&gt; | Growth.Rate &lt;dbl&gt; |\n|---|---|---|---|---|---|---|\n| 49 | New York     | United States | North America | 7931147 | 8133522 | -2.49 |\n| 130 | Los Angeles  | United States | North America | 3748640 | 3785439 | -0.97 |\n| 196 | Chicago      | United States | North America | 2590002 | 2627520 | -1.43 |\n| 351 | Philadelphia | United States | North America | 1533916 | 1550587 | -1.07 |\n| 637 | San Jose     | United States | North America |  932636 |  951934 | -2.03 |\n\n",
            "text/latex": "A data.frame: 5 × 6\n\\begin{tabular}{r|llllll}\n  & City & Country & Continent & Population..2024. & Population..2023. & Growth.Rate\\\\\n  & <chr> & <chr> & <chr> & <int> & <int> & <dbl>\\\\\n\\hline\n\t49 & New York     & United States & North America & 7931147 & 8133522 & -2.49\\\\\n\t130 & Los Angeles  & United States & North America & 3748640 & 3785439 & -0.97\\\\\n\t196 & Chicago      & United States & North America & 2590002 & 2627520 & -1.43\\\\\n\t351 & Philadelphia & United States & North America & 1533916 & 1550587 & -1.07\\\\\n\t637 & San Jose     & United States & North America &  932636 &  951934 & -2.03\\\\\n\\end{tabular}\n",
            "text/plain": [
              "    City         Country       Continent     Population..2024.\n",
              "49  New York     United States North America 7931147          \n",
              "130 Los Angeles  United States North America 3748640          \n",
              "196 Chicago      United States North America 2590002          \n",
              "351 Philadelphia United States North America 1533916          \n",
              "637 San Jose     United States North America  932636          \n",
              "    Population..2023. Growth.Rate\n",
              "49  8133522           -2.49      \n",
              "130 3785439           -0.97      \n",
              "196 2627520           -1.43      \n",
              "351 1550587           -1.07      \n",
              "637  951934           -2.03      "
            ]
          },
          "metadata": {}
        }
      ]
    },
    {
      "cell_type": "code",
      "source": [
        "#Cidades com outliers não negativos\n",
        "outliers_rows = which(data$Growth.Rate %in% non_negative_outliers)\n",
        "data[outliers_rows, ]"
      ],
      "metadata": {
        "colab": {
          "base_uri": "https://localhost:8080/",
          "height": 725
        },
        "id": "QcJbR4w87Fjf",
        "outputId": "9794911a-dd39-40e8-cd71-cf0f5681742a"
      },
      "execution_count": null,
      "outputs": [
        {
          "output_type": "display_data",
          "data": {
            "text/html": [
              "<table class=\"dataframe\">\n",
              "<caption>A data.frame: 20 × 6</caption>\n",
              "<thead>\n",
              "\t<tr><th></th><th scope=col>City</th><th scope=col>Country</th><th scope=col>Continent</th><th scope=col>Population..2024.</th><th scope=col>Population..2023.</th><th scope=col>Growth.Rate</th></tr>\n",
              "\t<tr><th></th><th scope=col>&lt;chr&gt;</th><th scope=col>&lt;chr&gt;</th><th scope=col>&lt;chr&gt;</th><th scope=col>&lt;int&gt;</th><th scope=col>&lt;int&gt;</th><th scope=col>&lt;dbl&gt;</th></tr>\n",
              "</thead>\n",
              "<tbody>\n",
              "\t<tr><th scope=row>48</th><td>Dar Es Salaam </td><td>Tanzania    </td><td>Africa</td><td>8161231</td><td>7775865</td><td>4.96</td></tr>\n",
              "\t<tr><th scope=row>114</th><td>Kampala       </td><td>Uganda      </td><td>Africa</td><td>4050826</td><td>3846102</td><td>5.32</td></tr>\n",
              "\t<tr><th scope=row>117</th><td>Abuja         </td><td>Nigeria     </td><td>Africa</td><td>4025735</td><td>3839646</td><td>4.85</td></tr>\n",
              "\t<tr><th scope=row>223</th><td>Aleppo        </td><td>Syria       </td><td>Asia  </td><td>2317650</td><td>2203025</td><td>5.20</td></tr>\n",
              "\t<tr><th scope=row>391</th><td>Uyo           </td><td>Nigeria     </td><td>Africa</td><td>1393453</td><td>1329284</td><td>4.83</td></tr>\n",
              "\t<tr><th scope=row>398</th><td>Mwanza        </td><td>Tanzania    </td><td>Africa</td><td>1378014</td><td>1310754</td><td>5.13</td></tr>\n",
              "\t<tr><th scope=row>423</th><td>Abomey Calavi </td><td>Benin       </td><td>Africa</td><td>1314916</td><td>1252890</td><td>4.95</td></tr>\n",
              "\t<tr><th scope=row>429</th><td>Bukavu        </td><td>DR Congo    </td><td>Africa</td><td>1308469</td><td>1248783</td><td>4.78</td></tr>\n",
              "\t<tr><th scope=row>430</th><td>Nnewi         </td><td>Nigeria     </td><td>Africa</td><td>1300993</td><td>1239186</td><td>4.99</td></tr>\n",
              "\t<tr><th scope=row>445</th><td>Bujumbura     </td><td>Burundi     </td><td>Africa</td><td>1277050</td><td>1206767</td><td>5.82</td></tr>\n",
              "\t<tr><th scope=row>463</th><td>Xiongan       </td><td>China       </td><td>Asia  </td><td>1240158</td><td>1183042</td><td>4.83</td></tr>\n",
              "\t<tr><th scope=row>485</th><td>Bobo Dioulasso</td><td>Burkina Faso</td><td>Africa</td><td>1185053</td><td>1128646</td><td>5.00</td></tr>\n",
              "\t<tr><th scope=row>510</th><td>Tshikapa      </td><td>DR Congo    </td><td>Africa</td><td>1131226</td><td>1077108</td><td>5.02</td></tr>\n",
              "\t<tr><th scope=row>627</th><td>Umuahia       </td><td>Nigeria     </td><td>Africa</td><td> 947460</td><td> 904139</td><td>4.79</td></tr>\n",
              "\t<tr><th scope=row>666</th><td>Lokoja        </td><td>Nigeria     </td><td>Africa</td><td> 885882</td><td> 839046</td><td>5.58</td></tr>\n",
              "\t<tr><th scope=row>685</th><td>Bunia         </td><td>DR Congo    </td><td>Africa</td><td> 856339</td><td> 812090</td><td>5.45</td></tr>\n",
              "\t<tr><th scope=row>714</th><td>Malanje       </td><td>Angola      </td><td>Africa</td><td> 822471</td><td> 783243</td><td>5.01</td></tr>\n",
              "\t<tr><th scope=row>729</th><td>Ibb           </td><td>Yemen       </td><td>Asia  </td><td> 810149</td><td> 771514</td><td>5.01</td></tr>\n",
              "\t<tr><th scope=row>753</th><td>Goma          </td><td>DR Congo    </td><td>Africa</td><td> 781875</td><td> 744247</td><td>5.06</td></tr>\n",
              "\t<tr><th scope=row>776</th><td>Nay Pyi Taw   </td><td>Myanmar     </td><td>Asia  </td><td> 757823</td><td> 722836</td><td>4.84</td></tr>\n",
              "</tbody>\n",
              "</table>\n"
            ],
            "text/markdown": "\nA data.frame: 20 × 6\n\n| <!--/--> | City &lt;chr&gt; | Country &lt;chr&gt; | Continent &lt;chr&gt; | Population..2024. &lt;int&gt; | Population..2023. &lt;int&gt; | Growth.Rate &lt;dbl&gt; |\n|---|---|---|---|---|---|---|\n| 48 | Dar Es Salaam  | Tanzania     | Africa | 8161231 | 7775865 | 4.96 |\n| 114 | Kampala        | Uganda       | Africa | 4050826 | 3846102 | 5.32 |\n| 117 | Abuja          | Nigeria      | Africa | 4025735 | 3839646 | 4.85 |\n| 223 | Aleppo         | Syria        | Asia   | 2317650 | 2203025 | 5.20 |\n| 391 | Uyo            | Nigeria      | Africa | 1393453 | 1329284 | 4.83 |\n| 398 | Mwanza         | Tanzania     | Africa | 1378014 | 1310754 | 5.13 |\n| 423 | Abomey Calavi  | Benin        | Africa | 1314916 | 1252890 | 4.95 |\n| 429 | Bukavu         | DR Congo     | Africa | 1308469 | 1248783 | 4.78 |\n| 430 | Nnewi          | Nigeria      | Africa | 1300993 | 1239186 | 4.99 |\n| 445 | Bujumbura      | Burundi      | Africa | 1277050 | 1206767 | 5.82 |\n| 463 | Xiongan        | China        | Asia   | 1240158 | 1183042 | 4.83 |\n| 485 | Bobo Dioulasso | Burkina Faso | Africa | 1185053 | 1128646 | 5.00 |\n| 510 | Tshikapa       | DR Congo     | Africa | 1131226 | 1077108 | 5.02 |\n| 627 | Umuahia        | Nigeria      | Africa |  947460 |  904139 | 4.79 |\n| 666 | Lokoja         | Nigeria      | Africa |  885882 |  839046 | 5.58 |\n| 685 | Bunia          | DR Congo     | Africa |  856339 |  812090 | 5.45 |\n| 714 | Malanje        | Angola       | Africa |  822471 |  783243 | 5.01 |\n| 729 | Ibb            | Yemen        | Asia   |  810149 |  771514 | 5.01 |\n| 753 | Goma           | DR Congo     | Africa |  781875 |  744247 | 5.06 |\n| 776 | Nay Pyi Taw    | Myanmar      | Asia   |  757823 |  722836 | 4.84 |\n\n",
            "text/latex": "A data.frame: 20 × 6\n\\begin{tabular}{r|llllll}\n  & City & Country & Continent & Population..2024. & Population..2023. & Growth.Rate\\\\\n  & <chr> & <chr> & <chr> & <int> & <int> & <dbl>\\\\\n\\hline\n\t48 & Dar Es Salaam  & Tanzania     & Africa & 8161231 & 7775865 & 4.96\\\\\n\t114 & Kampala        & Uganda       & Africa & 4050826 & 3846102 & 5.32\\\\\n\t117 & Abuja          & Nigeria      & Africa & 4025735 & 3839646 & 4.85\\\\\n\t223 & Aleppo         & Syria        & Asia   & 2317650 & 2203025 & 5.20\\\\\n\t391 & Uyo            & Nigeria      & Africa & 1393453 & 1329284 & 4.83\\\\\n\t398 & Mwanza         & Tanzania     & Africa & 1378014 & 1310754 & 5.13\\\\\n\t423 & Abomey Calavi  & Benin        & Africa & 1314916 & 1252890 & 4.95\\\\\n\t429 & Bukavu         & DR Congo     & Africa & 1308469 & 1248783 & 4.78\\\\\n\t430 & Nnewi          & Nigeria      & Africa & 1300993 & 1239186 & 4.99\\\\\n\t445 & Bujumbura      & Burundi      & Africa & 1277050 & 1206767 & 5.82\\\\\n\t463 & Xiongan        & China        & Asia   & 1240158 & 1183042 & 4.83\\\\\n\t485 & Bobo Dioulasso & Burkina Faso & Africa & 1185053 & 1128646 & 5.00\\\\\n\t510 & Tshikapa       & DR Congo     & Africa & 1131226 & 1077108 & 5.02\\\\\n\t627 & Umuahia        & Nigeria      & Africa &  947460 &  904139 & 4.79\\\\\n\t666 & Lokoja         & Nigeria      & Africa &  885882 &  839046 & 5.58\\\\\n\t685 & Bunia          & DR Congo     & Africa &  856339 &  812090 & 5.45\\\\\n\t714 & Malanje        & Angola       & Africa &  822471 &  783243 & 5.01\\\\\n\t729 & Ibb            & Yemen        & Asia   &  810149 &  771514 & 5.01\\\\\n\t753 & Goma           & DR Congo     & Africa &  781875 &  744247 & 5.06\\\\\n\t776 & Nay Pyi Taw    & Myanmar      & Asia   &  757823 &  722836 & 4.84\\\\\n\\end{tabular}\n",
            "text/plain": [
              "    City           Country      Continent Population..2024. Population..2023.\n",
              "48  Dar Es Salaam  Tanzania     Africa    8161231           7775865          \n",
              "114 Kampala        Uganda       Africa    4050826           3846102          \n",
              "117 Abuja          Nigeria      Africa    4025735           3839646          \n",
              "223 Aleppo         Syria        Asia      2317650           2203025          \n",
              "391 Uyo            Nigeria      Africa    1393453           1329284          \n",
              "398 Mwanza         Tanzania     Africa    1378014           1310754          \n",
              "423 Abomey Calavi  Benin        Africa    1314916           1252890          \n",
              "429 Bukavu         DR Congo     Africa    1308469           1248783          \n",
              "430 Nnewi          Nigeria      Africa    1300993           1239186          \n",
              "445 Bujumbura      Burundi      Africa    1277050           1206767          \n",
              "463 Xiongan        China        Asia      1240158           1183042          \n",
              "485 Bobo Dioulasso Burkina Faso Africa    1185053           1128646          \n",
              "510 Tshikapa       DR Congo     Africa    1131226           1077108          \n",
              "627 Umuahia        Nigeria      Africa     947460            904139          \n",
              "666 Lokoja         Nigeria      Africa     885882            839046          \n",
              "685 Bunia          DR Congo     Africa     856339            812090          \n",
              "714 Malanje        Angola       Africa     822471            783243          \n",
              "729 Ibb            Yemen        Asia       810149            771514          \n",
              "753 Goma           DR Congo     Africa     781875            744247          \n",
              "776 Nay Pyi Taw    Myanmar      Asia       757823            722836          \n",
              "    Growth.Rate\n",
              "48  4.96       \n",
              "114 5.32       \n",
              "117 4.85       \n",
              "223 5.20       \n",
              "391 4.83       \n",
              "398 5.13       \n",
              "423 4.95       \n",
              "429 4.78       \n",
              "430 4.99       \n",
              "445 5.82       \n",
              "463 4.83       \n",
              "485 5.00       \n",
              "510 5.02       \n",
              "627 4.79       \n",
              "666 5.58       \n",
              "685 5.45       \n",
              "714 5.01       \n",
              "729 5.01       \n",
              "753 5.06       \n",
              "776 4.84       "
            ]
          },
          "metadata": {}
        }
      ]
    },
    {
      "cell_type": "code",
      "source": [
        "#Podemos perceber somente observando os outliers que algumas cidades na américa do norte possuem a menor taxa de crescimento entre todas observadas\n",
        "#Além de percebermos que as cidades com maior taxa de crescimento estão na Africa e na Asia."
      ],
      "metadata": {
        "id": "JkhFej1P7LS2"
      },
      "execution_count": null,
      "outputs": []
    },
    {
      "cell_type": "markdown",
      "source": [
        "------"
      ],
      "metadata": {
        "id": "ksw0j2XX7nQy"
      }
    },
    {
      "cell_type": "code",
      "source": [
        "hist(data$Growth.Rate, breaks=20)"
      ],
      "metadata": {
        "colab": {
          "base_uri": "https://localhost:8080/",
          "height": 437
        },
        "id": "YhwR5mvS7yjS",
        "outputId": "94e71579-647b-4fd6-a472-33d7ef2ffc39"
      },
      "execution_count": null,
      "outputs": [
        {
          "output_type": "display_data",
          "data": {
            "text/plain": [
              "Plot with title “Histogram of data$Growth.Rate”"
            ],
            "image/png": "[encoded data removed]"
          },
          "metadata": {
            "image/png": {
              "width": 420,
              "height": 420
            }
          }
        }
      ]
    },
    {
      "cell_type": "code",
      "source": [
        "#Podemos perceber algo semelhante a uma distribuição normal.\n",
        "#Vamos realizar o teste de normalidade"
      ],
      "metadata": {
        "id": "P4wEFJAq7yg6"
      },
      "execution_count": null,
      "outputs": []
    },
    {
      "cell_type": "code",
      "source": [
        "ad.test(data$Growth.Rate)"
      ],
      "metadata": {
        "colab": {
          "base_uri": "https://localhost:8080/",
          "height": 104
        },
        "id": "jxj1a5PN7yeK",
        "outputId": "a836fc8e-f9ef-47f8-e0b2-aff6e570076f"
      },
      "execution_count": null,
      "outputs": [
        {
          "output_type": "display_data",
          "data": {
            "text/plain": [
              "\n",
              "\tAnderson-Darling normality test\n",
              "\n",
              "data:  data$Growth.Rate\n",
              "A = 1.9341, p-value = 6.198e-05\n"
            ]
          },
          "metadata": {}
        }
      ]
    },
    {
      "cell_type": "code",
      "source": [
        "#Como o p-value < 0.05, a variável ainda não possui uma distribuição normal.\n",
        "#Tentarei remover os outliers para ver se ajuda em algo."
      ],
      "metadata": {
        "id": "W7RDLgal7yXK"
      },
      "execution_count": null,
      "outputs": []
    },
    {
      "cell_type": "code",
      "source": [
        "#Pelo processo análogo ao processo de obtenção das cidades outliers, obtemos as cidades não outliers\n",
        "cleaned_data <- data[which(!data$Growth.Rate %in% non_negative_outliers), ]\n",
        "head(cleaned_data)"
      ],
      "metadata": {
        "colab": {
          "base_uri": "https://localhost:8080/",
          "height": 286
        },
        "id": "_FBWkXOR7yUz",
        "outputId": "b494e901-e450-40af-b334-d559cc937bf1"
      },
      "execution_count": null,
      "outputs": [
        {
          "output_type": "display_data",
          "data": {
            "text/html": [
              "<table class=\"dataframe\">\n",
              "<caption>A data.frame: 6 × 6</caption>\n",
              "<thead>\n",
              "\t<tr><th></th><th scope=col>City</th><th scope=col>Country</th><th scope=col>Continent</th><th scope=col>Population..2024.</th><th scope=col>Population..2023.</th><th scope=col>Growth.Rate</th></tr>\n",
              "\t<tr><th></th><th scope=col>&lt;chr&gt;</th><th scope=col>&lt;chr&gt;</th><th scope=col>&lt;chr&gt;</th><th scope=col>&lt;int&gt;</th><th scope=col>&lt;int&gt;</th><th scope=col>&lt;dbl&gt;</th></tr>\n",
              "</thead>\n",
              "<tbody>\n",
              "\t<tr><th scope=row>1</th><td>Tokyo    </td><td>Japan     </td><td>Asia         </td><td>37115035</td><td>37194105</td><td>-0.21</td></tr>\n",
              "\t<tr><th scope=row>2</th><td>Delhi    </td><td>India     </td><td>Asia         </td><td>33807403</td><td>32941309</td><td> 2.63</td></tr>\n",
              "\t<tr><th scope=row>3</th><td>Shanghai </td><td>China     </td><td>Asia         </td><td>29867918</td><td>29210808</td><td> 2.25</td></tr>\n",
              "\t<tr><th scope=row>4</th><td>Dhaka    </td><td>Bangladesh</td><td>Asia         </td><td>23935652</td><td>23209616</td><td> 3.13</td></tr>\n",
              "\t<tr><th scope=row>5</th><td>Sao Paulo</td><td>Brazil    </td><td>South America</td><td>22806704</td><td>22619736</td><td> 0.83</td></tr>\n",
              "\t<tr><th scope=row>6</th><td>Cairo    </td><td>Egypt     </td><td>Africa       </td><td>22623874</td><td>22183201</td><td> 1.99</td></tr>\n",
              "</tbody>\n",
              "</table>\n"
            ],
            "text/markdown": "\nA data.frame: 6 × 6\n\n| <!--/--> | City &lt;chr&gt; | Country &lt;chr&gt; | Continent &lt;chr&gt; | Population..2024. &lt;int&gt; | Population..2023. &lt;int&gt; | Growth.Rate &lt;dbl&gt; |\n|---|---|---|---|---|---|---|\n| 1 | Tokyo     | Japan      | Asia          | 37115035 | 37194105 | -0.21 |\n| 2 | Delhi     | India      | Asia          | 33807403 | 32941309 |  2.63 |\n| 3 | Shanghai  | China      | Asia          | 29867918 | 29210808 |  2.25 |\n| 4 | Dhaka     | Bangladesh | Asia          | 23935652 | 23209616 |  3.13 |\n| 5 | Sao Paulo | Brazil     | South America | 22806704 | 22619736 |  0.83 |\n| 6 | Cairo     | Egypt      | Africa        | 22623874 | 22183201 |  1.99 |\n\n",
            "text/latex": "A data.frame: 6 × 6\n\\begin{tabular}{r|llllll}\n  & City & Country & Continent & Population..2024. & Population..2023. & Growth.Rate\\\\\n  & <chr> & <chr> & <chr> & <int> & <int> & <dbl>\\\\\n\\hline\n\t1 & Tokyo     & Japan      & Asia          & 37115035 & 37194105 & -0.21\\\\\n\t2 & Delhi     & India      & Asia          & 33807403 & 32941309 &  2.63\\\\\n\t3 & Shanghai  & China      & Asia          & 29867918 & 29210808 &  2.25\\\\\n\t4 & Dhaka     & Bangladesh & Asia          & 23935652 & 23209616 &  3.13\\\\\n\t5 & Sao Paulo & Brazil     & South America & 22806704 & 22619736 &  0.83\\\\\n\t6 & Cairo     & Egypt      & Africa        & 22623874 & 22183201 &  1.99\\\\\n\\end{tabular}\n",
            "text/plain": [
              "  City      Country    Continent     Population..2024. Population..2023.\n",
              "1 Tokyo     Japan      Asia          37115035          37194105         \n",
              "2 Delhi     India      Asia          33807403          32941309         \n",
              "3 Shanghai  China      Asia          29867918          29210808         \n",
              "4 Dhaka     Bangladesh Asia          23935652          23209616         \n",
              "5 Sao Paulo Brazil     South America 22806704          22619736         \n",
              "6 Cairo     Egypt      Africa        22623874          22183201         \n",
              "  Growth.Rate\n",
              "1 -0.21      \n",
              "2  2.63      \n",
              "3  2.25      \n",
              "4  3.13      \n",
              "5  0.83      \n",
              "6  1.99      "
            ]
          },
          "metadata": {}
        }
      ]
    },
    {
      "cell_type": "code",
      "source": [
        "#Refazendo o teste de normalidade\n",
        "ad.test(cleaned_data$Growth.Rate)"
      ],
      "metadata": {
        "colab": {
          "base_uri": "https://localhost:8080/",
          "height": 104
        },
        "id": "k0qM5YAg9Xfy",
        "outputId": "9f5be431-668a-49c3-d280-298e5ce821bd"
      },
      "execution_count": null,
      "outputs": [
        {
          "output_type": "display_data",
          "data": {
            "text/plain": [
              "\n",
              "\tAnderson-Darling normality test\n",
              "\n",
              "data:  cleaned_data$Growth.Rate\n",
              "A = 0.68548, p-value = 0.07318\n"
            ]
          },
          "metadata": {}
        }
      ]
    },
    {
      "cell_type": "code",
      "source": [
        "#Como o p-value > 0.05, agora obtemos uma amostra normal."
      ],
      "metadata": {
        "id": "Tpn8YKG49bd5"
      },
      "execution_count": null,
      "outputs": []
    },
    {
      "cell_type": "code",
      "source": [
        "hist(cleaned_data$Growth.Rate)"
      ],
      "metadata": {
        "colab": {
          "base_uri": "https://localhost:8080/",
          "height": 437
        },
        "id": "79kAF5GX9vgi",
        "outputId": "a787b800-a3a8-43f5-b731-d10b7a47a726"
      },
      "execution_count": null,
      "outputs": [
        {
          "output_type": "display_data",
          "data": {
            "text/plain": [
              "Plot with title “Histogram of cleaned_data$Growth.Rate”"
            ],
            "image/png": "[encoded data removed]"
          },
          "metadata": {
            "image/png": {
              "width": 420,
              "height": 420
            }
          }
        }
      ]
    },
    {
      "cell_type": "markdown",
      "source": [
        "---"
      ],
      "metadata": {
        "id": "hnwAJNNs_osl"
      }
    },
    {
      "cell_type": "code",
      "source": [
        "ggplot(cleaned_data, aes(x=Continent, y=Population..2024.)) + geom_col()"
      ],
      "metadata": {
        "colab": {
          "base_uri": "https://localhost:8080/",
          "height": 437
        },
        "id": "Z4MlVv_u-Zth",
        "outputId": "782f4dd5-77d9-4fe8-bb79-3741842f148c"
      },
      "execution_count": null,
      "outputs": [
        {
          "output_type": "display_data",
          "data": {
            "text/plain": [
              "plot without title"
            ],
            "image/png": "[encoded data removed]"
          },
          "metadata": {
            "image/png": {
              "width": 420,
              "height": 420
            }
          }
        }
      ]
    },
    {
      "cell_type": "code",
      "source": [
        "#Com esse gráfico podemos analisar que a maior parte da população mundial analisada pela nossa base de dados está localizada na Ásia."
      ],
      "metadata": {
        "id": "jSSVgXbO-ZrS"
      },
      "execution_count": null,
      "outputs": []
    },
    {
      "cell_type": "code",
      "source": [
        "#HIPÓTESE 1\n",
        "\n",
        "#Hipótese Nula -> A taxa de crescimento não é menor na América em comparação com os outros continentes.\n",
        "#Hipótese Alternativa -> A taxa de crescimento é menor na América em comparação com os outros continentes."
      ],
      "metadata": {
        "id": "bkBK23Km-ZmB"
      },
      "execution_count": null,
      "outputs": []
    },
    {
      "cell_type": "code",
      "source": [
        "american_data <- cleaned_data %>% filter(Continent == \"South America\" | Continent == \"North America\")"
      ],
      "metadata": {
        "id": "lQxJTmktkb1-"
      },
      "execution_count": null,
      "outputs": []
    },
    {
      "cell_type": "code",
      "source": [
        "non_american_data <- cleaned_data %>% filter(Continent != \"South America\" & Continent != \"North America\")"
      ],
      "metadata": {
        "id": "-z0CjtyMkbue"
      },
      "execution_count": null,
      "outputs": []
    },
    {
      "cell_type": "code",
      "source": [
        "t.test(non_american_data$Growth.Rate, american_data$Growth.Rate, alternative = \"greater\")"
      ],
      "metadata": {
        "colab": {
          "base_uri": "https://localhost:8080/",
          "height": 208
        },
        "id": "01m4Fyhqjxqe",
        "outputId": "8aa24cbb-49a1-4f91-9351-a2dc8f93bd55"
      },
      "execution_count": null,
      "outputs": [
        {
          "output_type": "display_data",
          "data": {
            "text/plain": [
              "\n",
              "\tWelch Two Sample t-test\n",
              "\n",
              "data:  non_american_data$Growth.Rate and american_data$Growth.Rate\n",
              "t = 12.213, df = 236.69, p-value < 2.2e-16\n",
              "alternative hypothesis: true difference in means is greater than 0\n",
              "95 percent confidence interval:\n",
              " 0.8607648       Inf\n",
              "sample estimates:\n",
              "mean of x mean of y \n",
              " 2.089829  1.094480 \n"
            ]
          },
          "metadata": {}
        }
      ]
    },
    {
      "cell_type": "code",
      "source": [
        "#Como p-value é menor do que 0.05, é possível rejeitarmos a hipótese nula e aceitarmos a hipótese alternativa com um grau de confiança de 95%."
      ],
      "metadata": {
        "id": "A9-FKwS3kQ51"
      },
      "execution_count": null,
      "outputs": []
    },
    {
      "cell_type": "code",
      "source": [
        "#HIPÓTESE 2\n",
        "\n",
        "#Hipótese Nula -> A taxa de crescimento no Japão não é menor em comparação com os outros países.\n",
        "#Hipótese Alternativa -> A taxa de crescimento no Japão é menor em comparação com os outros países."
      ],
      "metadata": {
        "id": "ooz94HSi-Zjq"
      },
      "execution_count": null,
      "outputs": []
    },
    {
      "cell_type": "code",
      "source": [
        "japan_data <- cleaned_data %>% filter(Country == \"Japan\")\n",
        "japan_data"
      ],
      "metadata": {
        "id": "pEzPOO-2-ZcZ",
        "colab": {
          "base_uri": "https://localhost:8080/",
          "height": 380
        },
        "outputId": "c06a9cfe-cfd5-4693-c974-af77907cbe2c"
      },
      "execution_count": null,
      "outputs": [
        {
          "output_type": "display_data",
          "data": {
            "text/html": [
              "<table class=\"dataframe\">\n",
              "<caption>A data.frame: 9 × 6</caption>\n",
              "<thead>\n",
              "\t<tr><th scope=col>City</th><th scope=col>Country</th><th scope=col>Continent</th><th scope=col>Population..2024.</th><th scope=col>Population..2023.</th><th scope=col>Growth.Rate</th></tr>\n",
              "\t<tr><th scope=col>&lt;chr&gt;</th><th scope=col>&lt;chr&gt;</th><th scope=col>&lt;chr&gt;</th><th scope=col>&lt;int&gt;</th><th scope=col>&lt;int&gt;</th><th scope=col>&lt;dbl&gt;</th></tr>\n",
              "</thead>\n",
              "<tbody>\n",
              "\t<tr><td>Tokyo    </td><td>Japan</td><td>Asia</td><td>37115035</td><td>37194105</td><td>-0.21</td></tr>\n",
              "\t<tr><td>Osaka    </td><td>Japan</td><td>Asia</td><td>18967459</td><td>19013434</td><td>-0.24</td></tr>\n",
              "\t<tr><td>Nagoya   </td><td>Japan</td><td>Asia</td><td> 9556879</td><td> 9569328</td><td>-0.13</td></tr>\n",
              "\t<tr><td>Fukuoka  </td><td>Japan</td><td>Asia</td><td> 5478076</td><td> 5490271</td><td>-0.22</td></tr>\n",
              "\t<tr><td>Shizuoka </td><td>Japan</td><td>Asia</td><td> 2935527</td><td> 2937359</td><td>-0.06</td></tr>\n",
              "\t<tr><td>Sapporo  </td><td>Japan</td><td>Asia</td><td> 2660947</td><td> 2666112</td><td>-0.19</td></tr>\n",
              "\t<tr><td>Sendai   </td><td>Japan</td><td>Asia</td><td> 2341433</td><td> 2342302</td><td>-0.04</td></tr>\n",
              "\t<tr><td>Hiroshima</td><td>Japan</td><td>Asia</td><td> 2062884</td><td> 2067591</td><td>-0.23</td></tr>\n",
              "\t<tr><td>Niigata  </td><td>Japan</td><td>Asia</td><td>  795916</td><td>  797865</td><td>-0.24</td></tr>\n",
              "</tbody>\n",
              "</table>\n"
            ],
            "text/markdown": "\nA data.frame: 9 × 6\n\n| City &lt;chr&gt; | Country &lt;chr&gt; | Continent &lt;chr&gt; | Population..2024. &lt;int&gt; | Population..2023. &lt;int&gt; | Growth.Rate &lt;dbl&gt; |\n|---|---|---|---|---|---|\n| Tokyo     | Japan | Asia | 37115035 | 37194105 | -0.21 |\n| Osaka     | Japan | Asia | 18967459 | 19013434 | -0.24 |\n| Nagoya    | Japan | Asia |  9556879 |  9569328 | -0.13 |\n| Fukuoka   | Japan | Asia |  5478076 |  5490271 | -0.22 |\n| Shizuoka  | Japan | Asia |  2935527 |  2937359 | -0.06 |\n| Sapporo   | Japan | Asia |  2660947 |  2666112 | -0.19 |\n| Sendai    | Japan | Asia |  2341433 |  2342302 | -0.04 |\n| Hiroshima | Japan | Asia |  2062884 |  2067591 | -0.23 |\n| Niigata   | Japan | Asia |   795916 |   797865 | -0.24 |\n\n",
            "text/latex": "A data.frame: 9 × 6\n\\begin{tabular}{llllll}\n City & Country & Continent & Population..2024. & Population..2023. & Growth.Rate\\\\\n <chr> & <chr> & <chr> & <int> & <int> & <dbl>\\\\\n\\hline\n\t Tokyo     & Japan & Asia & 37115035 & 37194105 & -0.21\\\\\n\t Osaka     & Japan & Asia & 18967459 & 19013434 & -0.24\\\\\n\t Nagoya    & Japan & Asia &  9556879 &  9569328 & -0.13\\\\\n\t Fukuoka   & Japan & Asia &  5478076 &  5490271 & -0.22\\\\\n\t Shizuoka  & Japan & Asia &  2935527 &  2937359 & -0.06\\\\\n\t Sapporo   & Japan & Asia &  2660947 &  2666112 & -0.19\\\\\n\t Sendai    & Japan & Asia &  2341433 &  2342302 & -0.04\\\\\n\t Hiroshima & Japan & Asia &  2062884 &  2067591 & -0.23\\\\\n\t Niigata   & Japan & Asia &   795916 &   797865 & -0.24\\\\\n\\end{tabular}\n",
            "text/plain": [
              "  City      Country Continent Population..2024. Population..2023. Growth.Rate\n",
              "1 Tokyo     Japan   Asia      37115035          37194105          -0.21      \n",
              "2 Osaka     Japan   Asia      18967459          19013434          -0.24      \n",
              "3 Nagoya    Japan   Asia       9556879           9569328          -0.13      \n",
              "4 Fukuoka   Japan   Asia       5478076           5490271          -0.22      \n",
              "5 Shizuoka  Japan   Asia       2935527           2937359          -0.06      \n",
              "6 Sapporo   Japan   Asia       2660947           2666112          -0.19      \n",
              "7 Sendai    Japan   Asia       2341433           2342302          -0.04      \n",
              "8 Hiroshima Japan   Asia       2062884           2067591          -0.23      \n",
              "9 Niigata   Japan   Asia        795916            797865          -0.24      "
            ]
          },
          "metadata": {}
        }
      ]
    },
    {
      "cell_type": "code",
      "source": [
        "non_japan_data <- cleaned_data %>% filter(Country != \"Japan\")"
      ],
      "metadata": {
        "id": "RopZsPoWnIN_"
      },
      "execution_count": null,
      "outputs": []
    },
    {
      "cell_type": "code",
      "source": [
        "t.test(japan_data$Growth.Rate, non_japan_data$Growth.Rate, \"l\")"
      ],
      "metadata": {
        "colab": {
          "base_uri": "https://localhost:8080/",
          "height": 208
        },
        "id": "VDGB_knunB5O",
        "outputId": "eddb391a-2a28-44a9-9a1a-888e9366508c"
      },
      "execution_count": null,
      "outputs": [
        {
          "output_type": "display_data",
          "data": {
            "text/plain": [
              "\n",
              "\tWelch Two Sample t-test\n",
              "\n",
              "data:  japan_data$Growth.Rate and non_japan_data$Growth.Rate\n",
              "t = -44.54, df = 86.752, p-value < 2.2e-16\n",
              "alternative hypothesis: true difference in means is less than 0\n",
              "95 percent confidence interval:\n",
              "      -Inf -2.047059\n",
              "sample estimates:\n",
              " mean of x  mean of y \n",
              "-0.1733333  1.9531012 \n"
            ]
          },
          "metadata": {}
        }
      ]
    },
    {
      "cell_type": "code",
      "source": [
        "#Como p-value é menor do que 0.05, é possível rejeitarmos a hipótese nula e aceitarmos a hipótese alternativa com um grau de confiança de 95%."
      ],
      "metadata": {
        "id": "ws7Ay-m-nBtn"
      },
      "execution_count": null,
      "outputs": []
    }
  ]
}